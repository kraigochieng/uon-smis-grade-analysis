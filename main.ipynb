{
 "cells": [
  {
   "cell_type": "markdown",
   "metadata": {},
   "source": [
    "Preliminaries"
   ]
  },
  {
   "cell_type": "code",
   "execution_count": 1,
   "metadata": {},
   "outputs": [
    {
     "name": "stdout",
     "output_type": "stream",
     "text": [
      "Requirement already satisfied: requests in /home/kraigochieng/miniconda3/envs/base1/lib/python3.10/site-packages (from -r requirements.txt (line 1)) (2.31.0)\n",
      "Requirement already satisfied: beautifulsoup4 in /home/kraigochieng/miniconda3/envs/base1/lib/python3.10/site-packages (from -r requirements.txt (line 2)) (4.12.3)\n",
      "Requirement already satisfied: python-dotenv in /home/kraigochieng/miniconda3/envs/base1/lib/python3.10/site-packages (from -r requirements.txt (line 3)) (1.0.1)\n",
      "Requirement already satisfied: pandas in /home/kraigochieng/miniconda3/envs/base1/lib/python3.10/site-packages (from -r requirements.txt (line 4)) (2.2.2)\n",
      "Requirement already satisfied: matplotlib in /home/kraigochieng/miniconda3/envs/base1/lib/python3.10/site-packages (from -r requirements.txt (line 5)) (3.8.4)\n",
      "Requirement already satisfied: numpy in /home/kraigochieng/miniconda3/envs/base1/lib/python3.10/site-packages (from -r requirements.txt (line 6)) (1.26.4)\n",
      "Requirement already satisfied: charset-normalizer<4,>=2 in /home/kraigochieng/miniconda3/envs/base1/lib/python3.10/site-packages (from requests->-r requirements.txt (line 1)) (3.3.2)\n",
      "Requirement already satisfied: idna<4,>=2.5 in /home/kraigochieng/miniconda3/envs/base1/lib/python3.10/site-packages (from requests->-r requirements.txt (line 1)) (3.7)\n",
      "Requirement already satisfied: urllib3<3,>=1.21.1 in /home/kraigochieng/miniconda3/envs/base1/lib/python3.10/site-packages (from requests->-r requirements.txt (line 1)) (2.2.1)\n",
      "Requirement already satisfied: certifi>=2017.4.17 in /home/kraigochieng/miniconda3/envs/base1/lib/python3.10/site-packages (from requests->-r requirements.txt (line 1)) (2024.2.2)\n",
      "Requirement already satisfied: soupsieve>1.2 in /home/kraigochieng/miniconda3/envs/base1/lib/python3.10/site-packages (from beautifulsoup4->-r requirements.txt (line 2)) (2.5)\n",
      "Requirement already satisfied: python-dateutil>=2.8.2 in /home/kraigochieng/miniconda3/envs/base1/lib/python3.10/site-packages (from pandas->-r requirements.txt (line 4)) (2.9.0.post0)\n",
      "Requirement already satisfied: pytz>=2020.1 in /home/kraigochieng/miniconda3/envs/base1/lib/python3.10/site-packages (from pandas->-r requirements.txt (line 4)) (2024.1)\n",
      "Requirement already satisfied: tzdata>=2022.7 in /home/kraigochieng/miniconda3/envs/base1/lib/python3.10/site-packages (from pandas->-r requirements.txt (line 4)) (2024.1)\n",
      "Requirement already satisfied: contourpy>=1.0.1 in /home/kraigochieng/miniconda3/envs/base1/lib/python3.10/site-packages (from matplotlib->-r requirements.txt (line 5)) (1.2.1)\n",
      "Requirement already satisfied: cycler>=0.10 in /home/kraigochieng/miniconda3/envs/base1/lib/python3.10/site-packages (from matplotlib->-r requirements.txt (line 5)) (0.12.1)\n",
      "Requirement already satisfied: fonttools>=4.22.0 in /home/kraigochieng/miniconda3/envs/base1/lib/python3.10/site-packages (from matplotlib->-r requirements.txt (line 5)) (4.51.0)\n",
      "Requirement already satisfied: kiwisolver>=1.3.1 in /home/kraigochieng/miniconda3/envs/base1/lib/python3.10/site-packages (from matplotlib->-r requirements.txt (line 5)) (1.4.5)\n",
      "Requirement already satisfied: packaging>=20.0 in /home/kraigochieng/miniconda3/envs/base1/lib/python3.10/site-packages (from matplotlib->-r requirements.txt (line 5)) (24.0)\n",
      "Requirement already satisfied: pillow>=8 in /home/kraigochieng/miniconda3/envs/base1/lib/python3.10/site-packages (from matplotlib->-r requirements.txt (line 5)) (10.3.0)\n",
      "Requirement already satisfied: pyparsing>=2.3.1 in /home/kraigochieng/miniconda3/envs/base1/lib/python3.10/site-packages (from matplotlib->-r requirements.txt (line 5)) (3.1.2)\n",
      "Requirement already satisfied: six>=1.5 in /home/kraigochieng/miniconda3/envs/base1/lib/python3.10/site-packages (from python-dateutil>=2.8.2->pandas->-r requirements.txt (line 4)) (1.16.0)\n"
     ]
    }
   ],
   "source": [
    "%pip install -r requirements.txt"
   ]
  },
  {
   "cell_type": "code",
   "execution_count": 2,
   "metadata": {},
   "outputs": [
    {
     "data": {
      "text/plain": [
       "True"
      ]
     },
     "execution_count": 2,
     "metadata": {},
     "output_type": "execute_result"
    }
   ],
   "source": [
    "import requests\n",
    "from bs4 import BeautifulSoup\n",
    "from dotenv import load_dotenv\n",
    "import os\n",
    "import pandas as pd\n",
    "import matplotlib.pyplot as plt\n",
    "import numpy as np\n",
    "\n",
    "load_dotenv()\n"
   ]
  },
  {
   "cell_type": "markdown",
   "metadata": {},
   "source": [
    "# Goal: Look at what grades achieved for the for each academic year\n",
    "## Steps\n",
    "1. Login to UoN SMIS Website programatically\n",
    "2. Go to *Results* page.\n",
    "3. Scrape results table\n",
    "4. Transfer scraped data into a Pandas `Dataframe`\n",
    "5. Group the grades per academic year\n",
    "6. Visualize data."
   ]
  },
  {
   "cell_type": "markdown",
   "metadata": {},
   "source": [
    "### 1. Login to site to get session cookies"
   ]
  },
  {
   "cell_type": "code",
   "execution_count": 3,
   "metadata": {},
   "outputs": [],
   "source": [
    "# To maintain cookies\n",
    "s = requests.Session()"
   ]
  },
  {
   "cell_type": "code",
   "execution_count": 4,
   "metadata": {},
   "outputs": [
    {
     "name": "stderr",
     "output_type": "stream",
     "text": [
      "/home/kraigochieng/miniconda3/envs/base1/lib/python3.10/site-packages/urllib3/connectionpool.py:1103: InsecureRequestWarning: Unverified HTTPS request is being made to host 'smis.uonbi.ac.ke'. Adding certificate verification is strongly advised. See: https://urllib3.readthedocs.io/en/latest/advanced-usage.html#tls-warnings\n",
      "  warnings.warn(\n"
     ]
    }
   ],
   "source": [
    "homepage_url = \"https://smis.uonbi.ac.ke/index.php\"\n",
    "homepage_response = s.post(\n",
    "    url=homepage_url,\n",
    "    data={\n",
    "        \"regNo\": os.getenv(\"REGISTRATION_NUMBER\"),\n",
    "        \"smisPass\": os.getenv(\"PASSWORD\"),\n",
    "        \"smisLogon\": \"Login\"\n",
    "    },\n",
    "    verify=False\n",
    ")"
   ]
  },
  {
   "cell_type": "markdown",
   "metadata": {},
   "source": [
    "### 2. Go to *Results* page"
   ]
  },
  {
   "cell_type": "code",
   "execution_count": null,
   "metadata": {},
   "outputs": [],
   "source": [
    "results_url = \"https://smis.uonbi.ac.ke/result_slips.php\"\n",
    "results_response = s.get(\n",
    "    url=results_url\n",
    ")\n",
    "\n",
    "soup = BeautifulSoup(results_response.text, features=\"html.parser\")\n",
    "# print(soup.prettify())"
   ]
  },
  {
   "cell_type": "markdown",
   "metadata": {},
   "source": [
    "### 3. Scrape results table"
   ]
  },
  {
   "cell_type": "code",
   "execution_count": 6,
   "metadata": {},
   "outputs": [],
   "source": [
    "course_rows = soup.find_all(\"tr\", attrs={\"align\": \"left\"})\n",
    "semester_date_rows =  soup.find_all(\"td\", attrs={\"align\": \"left\", \"colspan\": \"5\"})\n",
    "\n",
    "#rows = soup.find_all(\"td\", attrs={\"align\": \"left\", \"colspan\": \"5\"})"
   ]
  },
  {
   "cell_type": "code",
   "execution_count": 7,
   "metadata": {},
   "outputs": [
    {
     "name": "stdout",
     "output_type": "stream",
     "text": [
      "[{'year': '2022/2023', 'month': 'January-April'}, {'year': '2022/2023', 'month': 'September-December'}, {'year': '2021/2022', 'month': 'January-April'}, {'year': '2021/2022', 'month': 'September-December'}]\n"
     ]
    }
   ],
   "source": [
    "# Create groups for semester dates\n",
    "semester_dates = []\n",
    "for semester_date_row in semester_date_rows:\n",
    "    semester_date_row_text = semester_date_row.get_text(strip=True)\n",
    "    year, month = semester_date_row_text.split(\"  \")\n",
    "    semester_dates.append({\n",
    "        \"year\": year,\n",
    "        \"month\": month\n",
    "    })\n",
    "\n",
    "print(semester_dates)\n",
    "    "
   ]
  },
  {
   "cell_type": "markdown",
   "metadata": {},
   "source": [
    "### 4. Transfer scraped data into a Pandas `Dataframe`"
   ]
  },
  {
   "cell_type": "code",
   "execution_count": 8,
   "metadata": {},
   "outputs": [],
   "source": [
    "courses = [[]]\n",
    "for course_row in course_rows:\n",
    "    fields = course_row.find_all(\"td\")\n",
    "    \n",
    "    group = fields[0].get_text(strip=True)\n",
    "    index = fields[1].get_text(strip=True)\n",
    "    course_code = fields[2].get_text(strip=True)\n",
    "    title = fields[3].get_text(strip=True)\n",
    "    grade = fields[4].get_text(strip=True)\n",
    "    \n",
    "    index = int(index) - 1\n",
    "\n",
    "    does_index_exist = False\n",
    "\n",
    "    try:\n",
    "        test_var = courses[index]\n",
    "        does_index_exist = True\n",
    "    except IndexError:\n",
    "        does_index_exist = False\n",
    "\n",
    "    if not does_index_exist:\n",
    "        courses.append([])\n",
    "        \n",
    "    courses[index].append(\n",
    "        {\n",
    "            \"course_code\": course_code,\n",
    "            \"title\": title,\n",
    "            \"grade\": grade\n",
    "        }\n",
    "    )\n"
   ]
  },
  {
   "cell_type": "code",
   "execution_count": 9,
   "metadata": {},
   "outputs": [],
   "source": [
    "courses_and_semester = []\n",
    "\n",
    "for semester_index, semester_date in enumerate(semester_dates):\n",
    "    for course_index in range(len(courses)):\n",
    "        \n",
    "        course = courses[course_index][semester_index]\n",
    "        \n",
    "        course_and_semester = {\n",
    "                \"year\": semester_date[\"year\"],\n",
    "                \"month\":semester_date[\"month\"],\n",
    "                \"name\": course[\"title\"],\n",
    "                \"grade\": course[\"grade\"],\n",
    "                \"code\": course[\"course_code\"]\n",
    "            }\n",
    "        \n",
    "        courses_and_semester.append(course_and_semester)"
   ]
  },
  {
   "cell_type": "code",
   "execution_count": 10,
   "metadata": {},
   "outputs": [],
   "source": [
    "df = pd.DataFrame(courses_and_semester)"
   ]
  },
  {
   "cell_type": "code",
   "execution_count": 11,
   "metadata": {},
   "outputs": [
    {
     "data": {
      "text/html": [
       "<div>\n",
       "<style scoped>\n",
       "    .dataframe tbody tr th:only-of-type {\n",
       "        vertical-align: middle;\n",
       "    }\n",
       "\n",
       "    .dataframe tbody tr th {\n",
       "        vertical-align: top;\n",
       "    }\n",
       "\n",
       "    .dataframe thead th {\n",
       "        text-align: right;\n",
       "    }\n",
       "</style>\n",
       "<table border=\"1\" class=\"dataframe\">\n",
       "  <thead>\n",
       "    <tr style=\"text-align: right;\">\n",
       "      <th></th>\n",
       "      <th>year</th>\n",
       "      <th>month</th>\n",
       "      <th>name</th>\n",
       "      <th>grade</th>\n",
       "      <th>code</th>\n",
       "    </tr>\n",
       "  </thead>\n",
       "  <tbody>\n",
       "    <tr>\n",
       "      <th>0</th>\n",
       "      <td>2022/2023</td>\n",
       "      <td>January-April</td>\n",
       "      <td>PROBABILITY AND STATISTICS</td>\n",
       "      <td>C</td>\n",
       "      <td>CSC124</td>\n",
       "    </tr>\n",
       "    <tr>\n",
       "      <th>1</th>\n",
       "      <td>2022/2023</td>\n",
       "      <td>January-April</td>\n",
       "      <td>ASSEMBLY LANGUAGE PROGRAMMING</td>\n",
       "      <td>A</td>\n",
       "      <td>CSC216</td>\n",
       "    </tr>\n",
       "    <tr>\n",
       "      <th>2</th>\n",
       "      <td>2022/2023</td>\n",
       "      <td>January-April</td>\n",
       "      <td>AUTOMATA THEORY</td>\n",
       "      <td>A</td>\n",
       "      <td>CSC222</td>\n",
       "    </tr>\n",
       "    <tr>\n",
       "      <th>3</th>\n",
       "      <td>2022/2023</td>\n",
       "      <td>January-April</td>\n",
       "      <td>PROGRAMMING PROJECT</td>\n",
       "      <td>A</td>\n",
       "      <td>CSC227</td>\n",
       "    </tr>\n",
       "    <tr>\n",
       "      <th>4</th>\n",
       "      <td>2022/2023</td>\n",
       "      <td>January-April</td>\n",
       "      <td>WEB AND SERVICES PROGRAMMING</td>\n",
       "      <td>A</td>\n",
       "      <td>CSC228</td>\n",
       "    </tr>\n",
       "    <tr>\n",
       "      <th>5</th>\n",
       "      <td>2022/2023</td>\n",
       "      <td>January-April</td>\n",
       "      <td>MACHINE LEARNING ALGORITHMS &amp; PROGRAMMING</td>\n",
       "      <td>A</td>\n",
       "      <td>CSC229</td>\n",
       "    </tr>\n",
       "    <tr>\n",
       "      <th>6</th>\n",
       "      <td>2022/2023</td>\n",
       "      <td>January-April</td>\n",
       "      <td>FOUNDATIONS OF HUMAN COMPUTER INTERACTION</td>\n",
       "      <td>C</td>\n",
       "      <td>CSC313</td>\n",
       "    </tr>\n",
       "    <tr>\n",
       "      <th>7</th>\n",
       "      <td>2022/2023</td>\n",
       "      <td>September-December</td>\n",
       "      <td>DIFFERENTIAL &amp; INTEGRAL CALCULUS</td>\n",
       "      <td>A</td>\n",
       "      <td>CSC114</td>\n",
       "    </tr>\n",
       "    <tr>\n",
       "      <th>8</th>\n",
       "      <td>2022/2023</td>\n",
       "      <td>September-December</td>\n",
       "      <td>SYSTEMS ANALYSIS AND DESIGN</td>\n",
       "      <td>B</td>\n",
       "      <td>CSC212</td>\n",
       "    </tr>\n",
       "    <tr>\n",
       "      <th>9</th>\n",
       "      <td>2022/2023</td>\n",
       "      <td>September-December</td>\n",
       "      <td>COMPUTER ARCHITECTURE</td>\n",
       "      <td>A</td>\n",
       "      <td>CSC213</td>\n",
       "    </tr>\n",
       "    <tr>\n",
       "      <th>10</th>\n",
       "      <td>2022/2023</td>\n",
       "      <td>September-December</td>\n",
       "      <td>KNOWLEDGE-BASED SYSTEMS &amp; PROGRAMMING</td>\n",
       "      <td>B</td>\n",
       "      <td>CSC218</td>\n",
       "    </tr>\n",
       "    <tr>\n",
       "      <th>11</th>\n",
       "      <td>2022/2023</td>\n",
       "      <td>September-December</td>\n",
       "      <td>OPERATING SYSTEMS</td>\n",
       "      <td>A</td>\n",
       "      <td>CSC223</td>\n",
       "    </tr>\n",
       "    <tr>\n",
       "      <th>12</th>\n",
       "      <td>2022/2023</td>\n",
       "      <td>September-December</td>\n",
       "      <td>SOFTWARE ENGINEERING</td>\n",
       "      <td>B</td>\n",
       "      <td>CSC224</td>\n",
       "    </tr>\n",
       "    <tr>\n",
       "      <th>13</th>\n",
       "      <td>2022/2023</td>\n",
       "      <td>September-December</td>\n",
       "      <td>COMPUTER NETWORKS</td>\n",
       "      <td>A</td>\n",
       "      <td>CSC225</td>\n",
       "    </tr>\n",
       "    <tr>\n",
       "      <th>14</th>\n",
       "      <td>2021/2022</td>\n",
       "      <td>January-April</td>\n",
       "      <td>HIV/AIDS</td>\n",
       "      <td>B</td>\n",
       "      <td>CCS010</td>\n",
       "    </tr>\n",
       "    <tr>\n",
       "      <th>15</th>\n",
       "      <td>2021/2022</td>\n",
       "      <td>January-April</td>\n",
       "      <td>DATABASE SYSTEMS</td>\n",
       "      <td>A</td>\n",
       "      <td>CSC122</td>\n",
       "    </tr>\n",
       "    <tr>\n",
       "      <th>16</th>\n",
       "      <td>2021/2022</td>\n",
       "      <td>January-April</td>\n",
       "      <td>DATA COMMUNICATIONS</td>\n",
       "      <td>A</td>\n",
       "      <td>CSC123</td>\n",
       "    </tr>\n",
       "    <tr>\n",
       "      <th>17</th>\n",
       "      <td>2021/2022</td>\n",
       "      <td>January-April</td>\n",
       "      <td>LINEAR ALGEBRA</td>\n",
       "      <td>B</td>\n",
       "      <td>CSC125</td>\n",
       "    </tr>\n",
       "    <tr>\n",
       "      <th>18</th>\n",
       "      <td>2021/2022</td>\n",
       "      <td>January-April</td>\n",
       "      <td>OBJECT ORIENTED PROGRAMMING</td>\n",
       "      <td>B</td>\n",
       "      <td>CSC127</td>\n",
       "    </tr>\n",
       "    <tr>\n",
       "      <th>19</th>\n",
       "      <td>2021/2022</td>\n",
       "      <td>January-April</td>\n",
       "      <td>DATA STRUCTURES AND ALGORITHMS</td>\n",
       "      <td>C</td>\n",
       "      <td>CSC211</td>\n",
       "    </tr>\n",
       "    <tr>\n",
       "      <th>20</th>\n",
       "      <td>2021/2022</td>\n",
       "      <td>January-April</td>\n",
       "      <td>DIGITAL ELECTRONICS</td>\n",
       "      <td>A</td>\n",
       "      <td>CSC214</td>\n",
       "    </tr>\n",
       "    <tr>\n",
       "      <th>21</th>\n",
       "      <td>2021/2022</td>\n",
       "      <td>September-December</td>\n",
       "      <td>COMMUNICATION AND LEARNING SKILLS</td>\n",
       "      <td>A</td>\n",
       "      <td>CCS001</td>\n",
       "    </tr>\n",
       "    <tr>\n",
       "      <th>22</th>\n",
       "      <td>2021/2022</td>\n",
       "      <td>September-December</td>\n",
       "      <td>ELEMENTS OF ECONOMICS</td>\n",
       "      <td>B</td>\n",
       "      <td>CCS009</td>\n",
       "    </tr>\n",
       "    <tr>\n",
       "      <th>23</th>\n",
       "      <td>2021/2022</td>\n",
       "      <td>September-December</td>\n",
       "      <td>INTRODUCTION TO COMPUTER SYSTEMS</td>\n",
       "      <td>A</td>\n",
       "      <td>CSC111</td>\n",
       "    </tr>\n",
       "    <tr>\n",
       "      <th>24</th>\n",
       "      <td>2021/2022</td>\n",
       "      <td>September-December</td>\n",
       "      <td>INTRODUCTION TO PROGRAMMING</td>\n",
       "      <td>A</td>\n",
       "      <td>CSC112</td>\n",
       "    </tr>\n",
       "    <tr>\n",
       "      <th>25</th>\n",
       "      <td>2021/2022</td>\n",
       "      <td>September-December</td>\n",
       "      <td>DISCRETE MATHS</td>\n",
       "      <td>A</td>\n",
       "      <td>CSC113</td>\n",
       "    </tr>\n",
       "    <tr>\n",
       "      <th>26</th>\n",
       "      <td>2021/2022</td>\n",
       "      <td>September-December</td>\n",
       "      <td>PROGRAMMING LAB</td>\n",
       "      <td>A</td>\n",
       "      <td>CSC115</td>\n",
       "    </tr>\n",
       "    <tr>\n",
       "      <th>27</th>\n",
       "      <td>2021/2022</td>\n",
       "      <td>September-December</td>\n",
       "      <td>PHYSICS FOR COMPUTING SYSTEMS</td>\n",
       "      <td>B</td>\n",
       "      <td>CSC126</td>\n",
       "    </tr>\n",
       "  </tbody>\n",
       "</table>\n",
       "</div>"
      ],
      "text/plain": [
       "         year               month                                       name  \\\n",
       "0   2022/2023       January-April                 PROBABILITY AND STATISTICS   \n",
       "1   2022/2023       January-April              ASSEMBLY LANGUAGE PROGRAMMING   \n",
       "2   2022/2023       January-April                            AUTOMATA THEORY   \n",
       "3   2022/2023       January-April                        PROGRAMMING PROJECT   \n",
       "4   2022/2023       January-April               WEB AND SERVICES PROGRAMMING   \n",
       "5   2022/2023       January-April  MACHINE LEARNING ALGORITHMS & PROGRAMMING   \n",
       "6   2022/2023       January-April  FOUNDATIONS OF HUMAN COMPUTER INTERACTION   \n",
       "7   2022/2023  September-December           DIFFERENTIAL & INTEGRAL CALCULUS   \n",
       "8   2022/2023  September-December                SYSTEMS ANALYSIS AND DESIGN   \n",
       "9   2022/2023  September-December                      COMPUTER ARCHITECTURE   \n",
       "10  2022/2023  September-December      KNOWLEDGE-BASED SYSTEMS & PROGRAMMING   \n",
       "11  2022/2023  September-December                          OPERATING SYSTEMS   \n",
       "12  2022/2023  September-December                       SOFTWARE ENGINEERING   \n",
       "13  2022/2023  September-December                          COMPUTER NETWORKS   \n",
       "14  2021/2022       January-April                                   HIV/AIDS   \n",
       "15  2021/2022       January-April                           DATABASE SYSTEMS   \n",
       "16  2021/2022       January-April                        DATA COMMUNICATIONS   \n",
       "17  2021/2022       January-April                             LINEAR ALGEBRA   \n",
       "18  2021/2022       January-April                OBJECT ORIENTED PROGRAMMING   \n",
       "19  2021/2022       January-April             DATA STRUCTURES AND ALGORITHMS   \n",
       "20  2021/2022       January-April                        DIGITAL ELECTRONICS   \n",
       "21  2021/2022  September-December          COMMUNICATION AND LEARNING SKILLS   \n",
       "22  2021/2022  September-December                      ELEMENTS OF ECONOMICS   \n",
       "23  2021/2022  September-December           INTRODUCTION TO COMPUTER SYSTEMS   \n",
       "24  2021/2022  September-December                INTRODUCTION TO PROGRAMMING   \n",
       "25  2021/2022  September-December                             DISCRETE MATHS   \n",
       "26  2021/2022  September-December                            PROGRAMMING LAB   \n",
       "27  2021/2022  September-December              PHYSICS FOR COMPUTING SYSTEMS   \n",
       "\n",
       "   grade    code  \n",
       "0      C  CSC124  \n",
       "1      A  CSC216  \n",
       "2      A  CSC222  \n",
       "3      A  CSC227  \n",
       "4      A  CSC228  \n",
       "5      A  CSC229  \n",
       "6      C  CSC313  \n",
       "7      A  CSC114  \n",
       "8      B  CSC212  \n",
       "9      A  CSC213  \n",
       "10     B  CSC218  \n",
       "11     A  CSC223  \n",
       "12     B  CSC224  \n",
       "13     A  CSC225  \n",
       "14     B  CCS010  \n",
       "15     A  CSC122  \n",
       "16     A  CSC123  \n",
       "17     B  CSC125  \n",
       "18     B  CSC127  \n",
       "19     C  CSC211  \n",
       "20     A  CSC214  \n",
       "21     A  CCS001  \n",
       "22     B  CCS009  \n",
       "23     A  CSC111  \n",
       "24     A  CSC112  \n",
       "25     A  CSC113  \n",
       "26     A  CSC115  \n",
       "27     B  CSC126  "
      ]
     },
     "execution_count": 11,
     "metadata": {},
     "output_type": "execute_result"
    }
   ],
   "source": [
    "df"
   ]
  },
  {
   "cell_type": "markdown",
   "metadata": {},
   "source": [
    "### 5. Group the grades per academic year"
   ]
  },
  {
   "cell_type": "code",
   "execution_count": 12,
   "metadata": {},
   "outputs": [],
   "source": [
    "# grade_count_per_year_df = df.groupby(\"year\")[\"grade\"].value_counts()\n",
    "grade_count_per_year_df = pd.crosstab(\n",
    "    index=df[\"year\"],\n",
    "    columns=df[\"grade\"],\n",
    "    values=df[\"grade\"],\n",
    "    aggfunc=\"count\"\n",
    ")\n",
    "\n",
    "grade_count_per_year_df = grade_count_per_year_df.div(grade_count_per_year_df.sum(axis=1),axis=0)\n",
    "grade_count_per_year_df.sort_values(by=\"year\", ascending=False, inplace=True)\n"
   ]
  },
  {
   "cell_type": "markdown",
   "metadata": {},
   "source": [
    "### 6. Visualize data"
   ]
  },
  {
   "cell_type": "code",
   "execution_count": 13,
   "metadata": {},
   "outputs": [
    {
     "data": {
      "image/png": "[encoded data removed]",
      "text/plain": [
       "<Figure size 1000x600 with 1 Axes>"
      ]
     },
     "metadata": {},
     "output_type": "display_data"
    }
   ],
   "source": [
    "grade_count_per_year_df.plot(kind=\"barh\", figsize=(10,6))\n",
    "\n",
    "plt.title(\"Grade Count Ratio per Academic Year\")\n",
    "plt.legend(title=\"Grade\")\n",
    "\n",
    "plt.xlabel(\"Grade Count Ratio\")\n",
    "plt.ylabel(\"Academic Year\")\n",
    "\n",
    "\n",
    "plt.xlim(0,1)\n",
    "y_step = 0.1\n",
    "y_lower_limit = 0\n",
    "y_upper_limit = 1\n",
    "plt.xticks(np.arange(y_lower_limit, y_upper_limit + y_step, y_step))\n",
    "plt.yticks(rotation=90)\n",
    "\n",
    "\n",
    "\n",
    "plt.grid(visible=True, axis=\"x\", linestyle=\"--\")\n",
    "\n",
    "plt.show()"
   ]
  }
 ],
 "metadata": {
  "kernelspec": {
   "display_name": "Python 3",
   "language": "python",
   "name": "python3"
  },
  "language_info": {
   "codemirror_mode": {
    "name": "ipython",
    "version": 3
   },
   "file_extension": ".py",
   "mimetype": "text/x-python",
   "name": "python",
   "nbconvert_exporter": "python",
   "pygments_lexer": "ipython3",
   "version": "3.10.14"
  }
 },
 "nbformat": 4,
 "nbformat_minor": 2
}
